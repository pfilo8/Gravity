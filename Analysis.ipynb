{
 "cells": [
  {
   "cell_type": "code",
   "execution_count": 1,
   "metadata": {
    "collapsed": true
   },
   "outputs": [],
   "source": [
    "import time\n",
    "import numpy as np\n",
    "import pandas as pd\n",
    "import seaborn as sns\n",
    "import matplotlib.pyplot as plt"
   ]
  },
  {
   "cell_type": "code",
   "execution_count": 2,
   "metadata": {},
   "outputs": [],
   "source": [
    "df = pd.read_csv('FinalData.csv', sep = ';', na_values = 'NaN')"
   ]
  },
  {
   "cell_type": "markdown",
   "metadata": {},
   "source": [
    "# Data Processing\n",
    "\n",
    "Przygotowanie danych do analizy, przekodowanie wartości z kolumn na osobne kolumny, utworzenie nowych zmiennych."
   ]
  },
  {
   "cell_type": "code",
   "execution_count": 3,
   "metadata": {
    "collapsed": true
   },
   "outputs": [],
   "source": [
    "df.ocena = df.ocena.str.replace(',','.')\n",
    "df.ocena = df.ocena.astype(np.float64)\n",
    "df.long = df.long.astype(np.float64)\n",
    "df.ilosc_recenzji = df.ilosc_recenzji.astype(np.float64)\n",
    "df['facebook'] = np.float64(df.strona_internetowa.str.contains('facebook').fillna(False))\n",
    "df.accessibility = np.float64(df.accessibility.str.contains('Wheelchair').fillna(False)) #Niepelnosprawnosc"
   ]
  },
  {
   "cell_type": "code",
   "execution_count": 4,
   "metadata": {},
   "outputs": [
    {
     "name": "stdout",
     "output_type": "stream",
     "text": [
      "\n"
     ]
    }
   ],
   "source": [
    "\"\"\"hours_columns = ['open_hours_monday', 'close_monay', 'tuesday', 'close_tue', 'wednesday',\n",
    "                 'closed_wed', 'thursday', 'closed_thu', 'friday', 'closed_fri',\n",
    "                 'saturday', 'closed_sat', 'sunday', 'closed_sun']\n",
    "\n",
    "\n",
    "for column in hours_columns:\n",
    "    new_column = []\n",
    "    for el in df[column]:\n",
    "        try:\n",
    "            new_column.append(time.strptime(el, '%H:%M:%S').tm_hour)\n",
    "        except:\n",
    "            new_column.append(np.nan)\n",
    "    df[column] = new_column\"\"\"\n",
    "print()"
   ]
  },
  {
   "cell_type": "code",
   "execution_count": 5,
   "metadata": {},
   "outputs": [
    {
     "name": "stderr",
     "output_type": "stream",
     "text": [
      "D:\\Games\\Anaconda\\lib\\site-packages\\ipykernel_launcher.py:25: RuntimeWarning: invalid value encountered in less\n"
     ]
    }
   ],
   "source": [
    "hours_columns = [['open_hours_monday', 'close_monay'],\n",
    "                 ['tuesday', 'close_tue'],\n",
    "                 ['wednesday','closed_wed'],\n",
    "                 ['thursday', 'closed_thu'],\n",
    "                 ['friday', 'closed_fri'],\n",
    "                 ['saturday', 'closed_sat'],\n",
    "                 ['sunday', 'closed_sun']]\n",
    "\n",
    "columnsToDrop = ['open_hours_monday', 'close_monay', 'tuesday', 'close_tue', 'wednesday',\n",
    "                 'closed_wed', 'thursday', 'closed_thu', 'friday', 'closed_fri',\n",
    "                 'saturday', 'closed_sat', 'sunday', 'closed_sun']\n",
    "\n",
    "for pair_column in hours_columns:\n",
    "    temp = []\n",
    "    for column in pair_column:\n",
    "        new_column = []\n",
    "        for el in df[column]:\n",
    "            try:\n",
    "                new_column.append(time.strptime(el, '%H:%M:%S').tm_hour)\n",
    "            except:\n",
    "                new_column.append(np.nan)\n",
    "        new_column = np.array(new_column)\n",
    "        temp.append(new_column)\n",
    "    wyjsciowaIloscGodzin = temp[1] - temp[0]\n",
    "    roznicaDni = 24*np.float64(wyjsciowaIloscGodzin<0)\n",
    "    toReturn = wyjsciowaIloscGodzin + roznicaDni\n",
    "    whereAreNan = np.isnan(toReturn)\n",
    "    toReturn[whereAreNan] = 0\n",
    "    \n",
    "    day = pair_column[1].split('_')\n",
    "    name = 'Working_hour_' + day[1]\n",
    "    \n",
    "    df[name] = toReturn\n",
    "    \n",
    "df = df.drop(columnsToDrop, axis = 1)"
   ]
  },
  {
   "cell_type": "code",
   "execution_count": 6,
   "metadata": {
    "collapsed": true
   },
   "outputs": [],
   "source": [
    "def make_dummy_variable(df, column):\n",
    "    \"\"\" Funkcja tworząca kolumny typu dummy variable z pojedynczej kolumny.\"\"\"\n",
    "    df[column] = df[column].str.lower()\n",
    "\n",
    "    a = [el.split(',') for el in df[column].unique() if type(el) == str]\n",
    "    b = [el for lista in a for el in lista]\n",
    "    c = [el[1:] if el.startswith(' ') else el for el in b]\n",
    "    d = [el[:-1] if el.endswith(' ') else el for el in c]\n",
    "    unique = list(set(d))\n",
    "    print(unique)\n",
    "\n",
    "    for el in unique:\n",
    "        df[el] = np.float64(df[column].str.contains(el).fillna(False)) \n",
    "    return df"
   ]
  },
  {
   "cell_type": "code",
   "execution_count": 7,
   "metadata": {},
   "outputs": [
    {
     "name": "stdout",
     "output_type": "stream",
     "text": [
      "['salad', \"kids' menu\", 'eko', 'vegan', 'salad bar', 'wine', 'beer', 'halal food', 'vegetarian options', 'organic dishes', 'late-night food', 'all you can eat', 'happy hour food']\n",
      "['live music', 'bar games', 'fireplace', 'women-led', 'sport', 'karaoke', 'outdoor seating', 'great cocktails', 'garden']\n",
      "[' supper', 'supper', 'seating', 'delivery', 'toilet', 'catering', 'breakfast', 'good for kids', 'dinner', 'lunch', 'dessert']\n",
      "['bar onsite', 'wi-fi', 'high chairs', 'toilet', 'do_karmienia', 'good for kids']\n",
      "['casual', 'cosy', 'trending']\n",
      "['groups', 'family friendly']\n",
      "['cash', 'credit cards', 'nfc', 'nan', 'reservations required', 'debit card']\n"
     ]
    }
   ],
   "source": [
    "to_change = ['Offerings', 'highlights', 'Dining_options', 'Amenities', 'Atmosphere', 'Crowd', 'Payments']\n",
    "\n",
    "for el in to_change:\n",
    "    df = make_dummy_variable(df, el)\n",
    "\n",
    "to_drop = to_change + ['nan']\n",
    "df = df.drop(to_drop, axis = 1)"
   ]
  },
  {
   "cell_type": "code",
   "execution_count": 8,
   "metadata": {},
   "outputs": [
    {
     "data": {
      "text/html": [
       "<div>\n",
       "<style>\n",
       "    .dataframe thead tr:only-child th {\n",
       "        text-align: right;\n",
       "    }\n",
       "\n",
       "    .dataframe thead th {\n",
       "        text-align: left;\n",
       "    }\n",
       "\n",
       "    .dataframe tbody tr th {\n",
       "        vertical-align: top;\n",
       "    }\n",
       "</style>\n",
       "<table border=\"1\" class=\"dataframe\">\n",
       "  <thead>\n",
       "    <tr style=\"text-align: right;\">\n",
       "      <th></th>\n",
       "      <th>nazwa</th>\n",
       "      <th>adres</th>\n",
       "      <th>strona_internetowa</th>\n",
       "      <th>lat</th>\n",
       "      <th>long</th>\n",
       "      <th>ocena</th>\n",
       "      <th>ilosc_recenzji</th>\n",
       "      <th>accessibility</th>\n",
       "      <th>czy_sieciowka</th>\n",
       "      <th>facebook</th>\n",
       "      <th>...</th>\n",
       "      <th>casual</th>\n",
       "      <th>cosy</th>\n",
       "      <th>trending</th>\n",
       "      <th>groups</th>\n",
       "      <th>family friendly</th>\n",
       "      <th>cash</th>\n",
       "      <th>credit cards</th>\n",
       "      <th>nfc</th>\n",
       "      <th>reservations required</th>\n",
       "      <th>debit card</th>\n",
       "    </tr>\n",
       "  </thead>\n",
       "  <tbody>\n",
       "    <tr>\n",
       "      <th>0</th>\n",
       "      <td>Pijalnia Wódki i Piwa</td>\n",
       "      <td>Rynek 13/14, 50-101 Wrocław</td>\n",
       "      <td>NaN</td>\n",
       "      <td>51.110446</td>\n",
       "      <td>17.032568</td>\n",
       "      <td>4.2</td>\n",
       "      <td>537.0</td>\n",
       "      <td>1.0</td>\n",
       "      <td>0</td>\n",
       "      <td>0.0</td>\n",
       "      <td>...</td>\n",
       "      <td>1.0</td>\n",
       "      <td>0.0</td>\n",
       "      <td>0.0</td>\n",
       "      <td>1.0</td>\n",
       "      <td>0.0</td>\n",
       "      <td>0.0</td>\n",
       "      <td>0.0</td>\n",
       "      <td>0.0</td>\n",
       "      <td>0.0</td>\n",
       "      <td>0.0</td>\n",
       "    </tr>\n",
       "    <tr>\n",
       "      <th>1</th>\n",
       "      <td>Forma Plynna</td>\n",
       "      <td>wybrzeże Stanisława Wyspiańskiego 20, 50-370 W...</td>\n",
       "      <td>https://www.facebook.com/FormaPlynna/</td>\n",
       "      <td>51.107954</td>\n",
       "      <td>17.057186</td>\n",
       "      <td>4.6</td>\n",
       "      <td>303.0</td>\n",
       "      <td>0.0</td>\n",
       "      <td>0</td>\n",
       "      <td>1.0</td>\n",
       "      <td>...</td>\n",
       "      <td>1.0</td>\n",
       "      <td>1.0</td>\n",
       "      <td>1.0</td>\n",
       "      <td>1.0</td>\n",
       "      <td>0.0</td>\n",
       "      <td>0.0</td>\n",
       "      <td>0.0</td>\n",
       "      <td>0.0</td>\n",
       "      <td>0.0</td>\n",
       "      <td>0.0</td>\n",
       "    </tr>\n",
       "    <tr>\n",
       "      <th>2</th>\n",
       "      <td>Pizzeria Bravo</td>\n",
       "      <td>plac Grunwaldzki 18, 48-300 Wrocław</td>\n",
       "      <td>http://www.bravo.wroclaw.pl/</td>\n",
       "      <td>51.111057</td>\n",
       "      <td>17.057905</td>\n",
       "      <td>4.0</td>\n",
       "      <td>587.0</td>\n",
       "      <td>1.0</td>\n",
       "      <td>0</td>\n",
       "      <td>0.0</td>\n",
       "      <td>...</td>\n",
       "      <td>1.0</td>\n",
       "      <td>1.0</td>\n",
       "      <td>0.0</td>\n",
       "      <td>1.0</td>\n",
       "      <td>0.0</td>\n",
       "      <td>0.0</td>\n",
       "      <td>0.0</td>\n",
       "      <td>0.0</td>\n",
       "      <td>0.0</td>\n",
       "      <td>0.0</td>\n",
       "    </tr>\n",
       "    <tr>\n",
       "      <th>3</th>\n",
       "      <td>Warzywniak</td>\n",
       "      <td>plac Grunwaldzki 18-20, 50-348 Wrocław</td>\n",
       "      <td>NaN</td>\n",
       "      <td>51.111057</td>\n",
       "      <td>17.057905</td>\n",
       "      <td>4.6</td>\n",
       "      <td>170.0</td>\n",
       "      <td>1.0</td>\n",
       "      <td>0</td>\n",
       "      <td>0.0</td>\n",
       "      <td>...</td>\n",
       "      <td>1.0</td>\n",
       "      <td>1.0</td>\n",
       "      <td>0.0</td>\n",
       "      <td>1.0</td>\n",
       "      <td>1.0</td>\n",
       "      <td>0.0</td>\n",
       "      <td>0.0</td>\n",
       "      <td>0.0</td>\n",
       "      <td>0.0</td>\n",
       "      <td>1.0</td>\n",
       "    </tr>\n",
       "    <tr>\n",
       "      <th>4</th>\n",
       "      <td>Remont Bar</td>\n",
       "      <td>plac Grunwaldzki 18, 48-300 Wrocław</td>\n",
       "      <td>https://www.facebook.com/Bar.Remont</td>\n",
       "      <td>51.111210</td>\n",
       "      <td>17.058386</td>\n",
       "      <td>4.4</td>\n",
       "      <td>374.0</td>\n",
       "      <td>1.0</td>\n",
       "      <td>0</td>\n",
       "      <td>1.0</td>\n",
       "      <td>...</td>\n",
       "      <td>1.0</td>\n",
       "      <td>1.0</td>\n",
       "      <td>0.0</td>\n",
       "      <td>1.0</td>\n",
       "      <td>0.0</td>\n",
       "      <td>0.0</td>\n",
       "      <td>0.0</td>\n",
       "      <td>0.0</td>\n",
       "      <td>0.0</td>\n",
       "      <td>0.0</td>\n",
       "    </tr>\n",
       "  </tbody>\n",
       "</table>\n",
       "<p>5 rows × 64 columns</p>\n",
       "</div>"
      ],
      "text/plain": [
       "                   nazwa                                              adres  \\\n",
       "0  Pijalnia Wódki i Piwa                        Rynek 13/14, 50-101 Wrocław   \n",
       "1           Forma Plynna  wybrzeże Stanisława Wyspiańskiego 20, 50-370 W...   \n",
       "2         Pizzeria Bravo                plac Grunwaldzki 18, 48-300 Wrocław   \n",
       "3             Warzywniak             plac Grunwaldzki 18-20, 50-348 Wrocław   \n",
       "4             Remont Bar                plac Grunwaldzki 18, 48-300 Wrocław   \n",
       "\n",
       "                      strona_internetowa        lat       long  ocena  \\\n",
       "0                                    NaN  51.110446  17.032568    4.2   \n",
       "1  https://www.facebook.com/FormaPlynna/  51.107954  17.057186    4.6   \n",
       "2           http://www.bravo.wroclaw.pl/  51.111057  17.057905    4.0   \n",
       "3                                    NaN  51.111057  17.057905    4.6   \n",
       "4    https://www.facebook.com/Bar.Remont  51.111210  17.058386    4.4   \n",
       "\n",
       "   ilosc_recenzji  accessibility  czy_sieciowka  facebook     ...      casual  \\\n",
       "0           537.0            1.0              0       0.0     ...         1.0   \n",
       "1           303.0            0.0              0       1.0     ...         1.0   \n",
       "2           587.0            1.0              0       0.0     ...         1.0   \n",
       "3           170.0            1.0              0       0.0     ...         1.0   \n",
       "4           374.0            1.0              0       1.0     ...         1.0   \n",
       "\n",
       "   cosy  trending  groups  family friendly  cash  credit cards  nfc  \\\n",
       "0   0.0       0.0     1.0              0.0   0.0           0.0  0.0   \n",
       "1   1.0       1.0     1.0              0.0   0.0           0.0  0.0   \n",
       "2   1.0       0.0     1.0              0.0   0.0           0.0  0.0   \n",
       "3   1.0       0.0     1.0              1.0   0.0           0.0  0.0   \n",
       "4   1.0       0.0     1.0              0.0   0.0           0.0  0.0   \n",
       "\n",
       "   reservations required  debit card  \n",
       "0                    0.0         0.0  \n",
       "1                    0.0         0.0  \n",
       "2                    0.0         0.0  \n",
       "3                    0.0         1.0  \n",
       "4                    0.0         0.0  \n",
       "\n",
       "[5 rows x 64 columns]"
      ]
     },
     "execution_count": 8,
     "metadata": {},
     "output_type": "execute_result"
    }
   ],
   "source": [
    "df.head()"
   ]
  },
  {
   "cell_type": "code",
   "execution_count": 9,
   "metadata": {},
   "outputs": [
    {
     "data": {
      "text/html": [
       "<div>\n",
       "<style>\n",
       "    .dataframe thead tr:only-child th {\n",
       "        text-align: right;\n",
       "    }\n",
       "\n",
       "    .dataframe thead th {\n",
       "        text-align: left;\n",
       "    }\n",
       "\n",
       "    .dataframe tbody tr th {\n",
       "        vertical-align: top;\n",
       "    }\n",
       "</style>\n",
       "<table border=\"1\" class=\"dataframe\">\n",
       "  <thead>\n",
       "    <tr style=\"text-align: right;\">\n",
       "      <th></th>\n",
       "      <th>lat</th>\n",
       "      <th>long</th>\n",
       "      <th>ocena</th>\n",
       "      <th>ilosc_recenzji</th>\n",
       "      <th>accessibility</th>\n",
       "      <th>czy_sieciowka</th>\n",
       "      <th>facebook</th>\n",
       "      <th>Working_hour_monay</th>\n",
       "      <th>Working_hour_tue</th>\n",
       "      <th>Working_hour_wed</th>\n",
       "      <th>...</th>\n",
       "      <th>casual</th>\n",
       "      <th>cosy</th>\n",
       "      <th>trending</th>\n",
       "      <th>groups</th>\n",
       "      <th>family friendly</th>\n",
       "      <th>cash</th>\n",
       "      <th>credit cards</th>\n",
       "      <th>nfc</th>\n",
       "      <th>reservations required</th>\n",
       "      <th>debit card</th>\n",
       "    </tr>\n",
       "  </thead>\n",
       "  <tbody>\n",
       "    <tr>\n",
       "      <th>count</th>\n",
       "      <td>222.000000</td>\n",
       "      <td>222.000000</td>\n",
       "      <td>222.000000</td>\n",
       "      <td>222.000000</td>\n",
       "      <td>222.00000</td>\n",
       "      <td>222.000000</td>\n",
       "      <td>222.000000</td>\n",
       "      <td>222.000000</td>\n",
       "      <td>222.000000</td>\n",
       "      <td>222.000000</td>\n",
       "      <td>...</td>\n",
       "      <td>222.000000</td>\n",
       "      <td>222.000000</td>\n",
       "      <td>222.000000</td>\n",
       "      <td>222.000000</td>\n",
       "      <td>222.000000</td>\n",
       "      <td>222.000000</td>\n",
       "      <td>222.000000</td>\n",
       "      <td>222.000000</td>\n",
       "      <td>222.000000</td>\n",
       "      <td>222.000000</td>\n",
       "    </tr>\n",
       "    <tr>\n",
       "      <th>mean</th>\n",
       "      <td>51.109168</td>\n",
       "      <td>17.032141</td>\n",
       "      <td>4.009009</td>\n",
       "      <td>147.873874</td>\n",
       "      <td>0.50000</td>\n",
       "      <td>0.324324</td>\n",
       "      <td>0.184685</td>\n",
       "      <td>9.256757</td>\n",
       "      <td>9.734234</td>\n",
       "      <td>9.815315</td>\n",
       "      <td>...</td>\n",
       "      <td>0.815315</td>\n",
       "      <td>0.522523</td>\n",
       "      <td>0.018018</td>\n",
       "      <td>0.540541</td>\n",
       "      <td>0.121622</td>\n",
       "      <td>0.022523</td>\n",
       "      <td>0.013514</td>\n",
       "      <td>0.022523</td>\n",
       "      <td>0.004505</td>\n",
       "      <td>0.157658</td>\n",
       "    </tr>\n",
       "    <tr>\n",
       "      <th>std</th>\n",
       "      <td>0.021751</td>\n",
       "      <td>0.033798</td>\n",
       "      <td>0.702426</td>\n",
       "      <td>182.625826</td>\n",
       "      <td>0.50113</td>\n",
       "      <td>0.469180</td>\n",
       "      <td>0.388918</td>\n",
       "      <td>4.097436</td>\n",
       "      <td>3.515525</td>\n",
       "      <td>3.391117</td>\n",
       "      <td>...</td>\n",
       "      <td>0.388918</td>\n",
       "      <td>0.500621</td>\n",
       "      <td>0.133317</td>\n",
       "      <td>0.499480</td>\n",
       "      <td>0.327587</td>\n",
       "      <td>0.148711</td>\n",
       "      <td>0.115720</td>\n",
       "      <td>0.148711</td>\n",
       "      <td>0.067116</td>\n",
       "      <td>0.365243</td>\n",
       "    </tr>\n",
       "    <tr>\n",
       "      <th>min</th>\n",
       "      <td>51.030323</td>\n",
       "      <td>16.962195</td>\n",
       "      <td>0.000000</td>\n",
       "      <td>0.000000</td>\n",
       "      <td>0.00000</td>\n",
       "      <td>0.000000</td>\n",
       "      <td>0.000000</td>\n",
       "      <td>0.000000</td>\n",
       "      <td>0.000000</td>\n",
       "      <td>0.000000</td>\n",
       "      <td>...</td>\n",
       "      <td>0.000000</td>\n",
       "      <td>0.000000</td>\n",
       "      <td>0.000000</td>\n",
       "      <td>0.000000</td>\n",
       "      <td>0.000000</td>\n",
       "      <td>0.000000</td>\n",
       "      <td>0.000000</td>\n",
       "      <td>0.000000</td>\n",
       "      <td>0.000000</td>\n",
       "      <td>0.000000</td>\n",
       "    </tr>\n",
       "    <tr>\n",
       "      <th>25%</th>\n",
       "      <td>51.101322</td>\n",
       "      <td>17.012245</td>\n",
       "      <td>3.700000</td>\n",
       "      <td>27.000000</td>\n",
       "      <td>0.00000</td>\n",
       "      <td>0.000000</td>\n",
       "      <td>0.000000</td>\n",
       "      <td>8.250000</td>\n",
       "      <td>9.000000</td>\n",
       "      <td>9.000000</td>\n",
       "      <td>...</td>\n",
       "      <td>1.000000</td>\n",
       "      <td>0.000000</td>\n",
       "      <td>0.000000</td>\n",
       "      <td>0.000000</td>\n",
       "      <td>0.000000</td>\n",
       "      <td>0.000000</td>\n",
       "      <td>0.000000</td>\n",
       "      <td>0.000000</td>\n",
       "      <td>0.000000</td>\n",
       "      <td>0.000000</td>\n",
       "    </tr>\n",
       "    <tr>\n",
       "      <th>50%</th>\n",
       "      <td>51.113294</td>\n",
       "      <td>17.034007</td>\n",
       "      <td>4.200000</td>\n",
       "      <td>86.500000</td>\n",
       "      <td>0.50000</td>\n",
       "      <td>0.000000</td>\n",
       "      <td>0.000000</td>\n",
       "      <td>10.000000</td>\n",
       "      <td>10.000000</td>\n",
       "      <td>10.000000</td>\n",
       "      <td>...</td>\n",
       "      <td>1.000000</td>\n",
       "      <td>1.000000</td>\n",
       "      <td>0.000000</td>\n",
       "      <td>1.000000</td>\n",
       "      <td>0.000000</td>\n",
       "      <td>0.000000</td>\n",
       "      <td>0.000000</td>\n",
       "      <td>0.000000</td>\n",
       "      <td>0.000000</td>\n",
       "      <td>0.000000</td>\n",
       "    </tr>\n",
       "    <tr>\n",
       "      <th>75%</th>\n",
       "      <td>51.120933</td>\n",
       "      <td>17.051558</td>\n",
       "      <td>4.500000</td>\n",
       "      <td>187.500000</td>\n",
       "      <td>1.00000</td>\n",
       "      <td>1.000000</td>\n",
       "      <td>0.000000</td>\n",
       "      <td>12.000000</td>\n",
       "      <td>12.000000</td>\n",
       "      <td>12.000000</td>\n",
       "      <td>...</td>\n",
       "      <td>1.000000</td>\n",
       "      <td>1.000000</td>\n",
       "      <td>0.000000</td>\n",
       "      <td>1.000000</td>\n",
       "      <td>0.000000</td>\n",
       "      <td>0.000000</td>\n",
       "      <td>0.000000</td>\n",
       "      <td>0.000000</td>\n",
       "      <td>0.000000</td>\n",
       "      <td>0.000000</td>\n",
       "    </tr>\n",
       "    <tr>\n",
       "      <th>max</th>\n",
       "      <td>51.150938</td>\n",
       "      <td>17.120709</td>\n",
       "      <td>5.000000</td>\n",
       "      <td>1122.000000</td>\n",
       "      <td>1.00000</td>\n",
       "      <td>1.000000</td>\n",
       "      <td>1.000000</td>\n",
       "      <td>23.000000</td>\n",
       "      <td>23.000000</td>\n",
       "      <td>23.000000</td>\n",
       "      <td>...</td>\n",
       "      <td>1.000000</td>\n",
       "      <td>1.000000</td>\n",
       "      <td>1.000000</td>\n",
       "      <td>1.000000</td>\n",
       "      <td>1.000000</td>\n",
       "      <td>1.000000</td>\n",
       "      <td>1.000000</td>\n",
       "      <td>1.000000</td>\n",
       "      <td>1.000000</td>\n",
       "      <td>1.000000</td>\n",
       "    </tr>\n",
       "  </tbody>\n",
       "</table>\n",
       "<p>8 rows × 61 columns</p>\n",
       "</div>"
      ],
      "text/plain": [
       "              lat        long       ocena  ilosc_recenzji  accessibility  \\\n",
       "count  222.000000  222.000000  222.000000      222.000000      222.00000   \n",
       "mean    51.109168   17.032141    4.009009      147.873874        0.50000   \n",
       "std      0.021751    0.033798    0.702426      182.625826        0.50113   \n",
       "min     51.030323   16.962195    0.000000        0.000000        0.00000   \n",
       "25%     51.101322   17.012245    3.700000       27.000000        0.00000   \n",
       "50%     51.113294   17.034007    4.200000       86.500000        0.50000   \n",
       "75%     51.120933   17.051558    4.500000      187.500000        1.00000   \n",
       "max     51.150938   17.120709    5.000000     1122.000000        1.00000   \n",
       "\n",
       "       czy_sieciowka    facebook  Working_hour_monay  Working_hour_tue  \\\n",
       "count     222.000000  222.000000          222.000000        222.000000   \n",
       "mean        0.324324    0.184685            9.256757          9.734234   \n",
       "std         0.469180    0.388918            4.097436          3.515525   \n",
       "min         0.000000    0.000000            0.000000          0.000000   \n",
       "25%         0.000000    0.000000            8.250000          9.000000   \n",
       "50%         0.000000    0.000000           10.000000         10.000000   \n",
       "75%         1.000000    0.000000           12.000000         12.000000   \n",
       "max         1.000000    1.000000           23.000000         23.000000   \n",
       "\n",
       "       Working_hour_wed     ...          casual        cosy    trending  \\\n",
       "count        222.000000     ...      222.000000  222.000000  222.000000   \n",
       "mean           9.815315     ...        0.815315    0.522523    0.018018   \n",
       "std            3.391117     ...        0.388918    0.500621    0.133317   \n",
       "min            0.000000     ...        0.000000    0.000000    0.000000   \n",
       "25%            9.000000     ...        1.000000    0.000000    0.000000   \n",
       "50%           10.000000     ...        1.000000    1.000000    0.000000   \n",
       "75%           12.000000     ...        1.000000    1.000000    0.000000   \n",
       "max           23.000000     ...        1.000000    1.000000    1.000000   \n",
       "\n",
       "           groups  family friendly        cash  credit cards         nfc  \\\n",
       "count  222.000000       222.000000  222.000000    222.000000  222.000000   \n",
       "mean     0.540541         0.121622    0.022523      0.013514    0.022523   \n",
       "std      0.499480         0.327587    0.148711      0.115720    0.148711   \n",
       "min      0.000000         0.000000    0.000000      0.000000    0.000000   \n",
       "25%      0.000000         0.000000    0.000000      0.000000    0.000000   \n",
       "50%      1.000000         0.000000    0.000000      0.000000    0.000000   \n",
       "75%      1.000000         0.000000    0.000000      0.000000    0.000000   \n",
       "max      1.000000         1.000000    1.000000      1.000000    1.000000   \n",
       "\n",
       "       reservations required  debit card  \n",
       "count             222.000000  222.000000  \n",
       "mean                0.004505    0.157658  \n",
       "std                 0.067116    0.365243  \n",
       "min                 0.000000    0.000000  \n",
       "25%                 0.000000    0.000000  \n",
       "50%                 0.000000    0.000000  \n",
       "75%                 0.000000    0.000000  \n",
       "max                 1.000000    1.000000  \n",
       "\n",
       "[8 rows x 61 columns]"
      ]
     },
     "execution_count": 9,
     "metadata": {},
     "output_type": "execute_result"
    }
   ],
   "source": [
    "df.describe()"
   ]
  },
  {
   "cell_type": "code",
   "execution_count": 10,
   "metadata": {
    "collapsed": true
   },
   "outputs": [],
   "source": [
    "odleglosci2 = []\n",
    "\n",
    "for index, row1 in df.iterrows():\n",
    "    odleglosci2.extend(np.sqrt((row1.long - df.long)**2 + (row1.lat - df.lat)**2).values.tolist())\n",
    "    \n",
    "odleglosci2 = [el for el in odleglosci2 if el!= 0]\n",
    "\n",
    "kwantyle = np.percentile(odleglosci2, [10, 40, 75])"
   ]
  },
  {
   "cell_type": "code",
   "execution_count": 11,
   "metadata": {
    "collapsed": true
   },
   "outputs": [],
   "source": [
    "kolumny = [[],[],[]]\n",
    "\n",
    "for index, row1 in df.iterrows():\n",
    "    odleglosci_od_innych_lokali = np.sqrt((row1.long - df.long)**2 + (row1.lat - df.lat)**2).values.tolist() \n",
    "    for i in range(3):\n",
    "        kolumny[i].append(np.sum(odleglosci_od_innych_lokali <= kwantyle[i]))\n",
    "        \n",
    "odleglosci = pd.DataFrame(data = {'blisko':kolumny[0],'srednio':kolumny[1],'daleko':kolumny[2]})\n",
    "df = pd.concat([df, odleglosci], axis = 1)"
   ]
  },
  {
   "cell_type": "markdown",
   "metadata": {},
   "source": [
    "# Analysis"
   ]
  },
  {
   "cell_type": "markdown",
   "metadata": {},
   "source": [
    "Wizualizacja rozkładu ocen oraz ilości recenzji"
   ]
  },
  {
   "cell_type": "code",
   "execution_count": 12,
   "metadata": {},
   "outputs": [
    {
     "data": {
      "image/png": "[encoded data removed]",
      "text/plain": [
       "<matplotlib.figure.Figure at 0xc2dc080>"
      ]
     },
     "metadata": {},
     "output_type": "display_data"
    }
   ],
   "source": [
    "plt.figure(figsize = (12,4))\n",
    "\n",
    "plt.subplot(1,2,1)\n",
    "df.ocena.hist(bins = 24)\n",
    "plt.xlabel('Ocena')\n",
    "plt.ylabel('Ilość')\n",
    "\n",
    "plt.subplot(1,2,2)\n",
    "df.ilosc_recenzji.hist(bins = 60)\n",
    "plt.xlabel('Ilosc recenzji')\n",
    "plt.ylabel('Ilość wystąpień')\n",
    "\n",
    "plt.show()"
   ]
  },
  {
   "cell_type": "markdown",
   "metadata": {},
   "source": [
    "Stworzenie zmiennych klasyfikujących dobre lokale"
   ]
  },
  {
   "cell_type": "code",
   "execution_count": 13,
   "metadata": {},
   "outputs": [
    {
     "data": {
      "text/plain": [
       "35.0"
      ]
     },
     "execution_count": 13,
     "metadata": {},
     "output_type": "execute_result"
    }
   ],
   "source": [
    "df['dobry_lokal'] = np.float64(np.logical_and(df.ilosc_recenzji > 150, df.ocena >= 4.4))\n",
    "df.dobry_lokal.sum()"
   ]
  },
  {
   "cell_type": "code",
   "execution_count": 14,
   "metadata": {},
   "outputs": [
    {
     "data": {
      "text/plain": [
       "61.0"
      ]
     },
     "execution_count": 14,
     "metadata": {},
     "output_type": "execute_result"
    }
   ],
   "source": [
    "df['dobry_lokal2'] = np.float64(np.logical_or(df.ilosc_recenzji > 300, np.logical_and(df.ilosc_recenzji >= 50, df.ocena >= 4.5)))\n",
    "df.dobry_lokal2.sum()"
   ]
  },
  {
   "cell_type": "markdown",
   "metadata": {},
   "source": [
    "Rozkład odległości pomiędzy lokalami"
   ]
  },
  {
   "cell_type": "code",
   "execution_count": 15,
   "metadata": {},
   "outputs": [
    {
     "data": {
      "image/png": "[encoded data removed]",
      "text/plain": [
       "<matplotlib.figure.Figure at 0xc2a09e8>"
      ]
     },
     "metadata": {},
     "output_type": "display_data"
    }
   ],
   "source": [
    "plt.figure(figsize = (12, 4))\n",
    "\n",
    "plt.subplot(1,2,1)\n",
    "plt.hist(odleglosci2, bins = 100)\n",
    "plt.title('Rozklad odleglosci miedzy budynkami')\n",
    "\n",
    "plt.subplot(1,2,2)\n",
    "plt.boxplot(odleglosci2)\n",
    "\n",
    "plt.show()"
   ]
  },
  {
   "cell_type": "markdown",
   "metadata": {},
   "source": [
    "Korelacje"
   ]
  },
  {
   "cell_type": "code",
   "execution_count": 16,
   "metadata": {},
   "outputs": [
    {
     "name": "stdout",
     "output_type": "stream",
     "text": [
      "   nan   1.00   0.32   0.40 ocena\n",
      "  1.00    nan   0.48   0.62 ilosc_recenzji\n",
      "   nan    nan    nan   0.31 good for kids\n",
      "   nan   0.35   0.34   0.35 cosy\n",
      "  0.30    nan    nan    nan groups\n",
      "  0.48   0.32   1.00   0.56 dobry_lokal\n",
      "  0.62   0.40   0.56   1.00 dobry_lokal2\n"
     ]
    }
   ],
   "source": [
    "korelacje = df.corr()[['ilosc_recenzji', 'ocena', 'dobry_lokal', 'dobry_lokal2']]\n",
    "for idx, row in korelacje[abs(korelacje) > 0.3].iterrows():\n",
    "    if not row.isnull().all():\n",
    "        print('{:6.2f} {:6.2f} {:6.2f} {:6.2f} {}'.format(row.ilosc_recenzji, row.ocena, row.dobry_lokal, row.dobry_lokal2, row.name))"
   ]
  },
  {
   "cell_type": "markdown",
   "metadata": {},
   "source": [
    "Skorelowanie:\n",
    "- Good for kids z dobry_lokal\n",
    "- Cosy z ilość recenzji\n",
    "- Groups z ocena"
   ]
  },
  {
   "cell_type": "code",
   "execution_count": 17,
   "metadata": {},
   "outputs": [
    {
     "name": "stdout",
     "output_type": "stream",
     "text": [
      " 51.11  51.11 lat\n",
      " 17.03  17.05 long\n",
      "  3.91   4.53 ocena\n",
      "110.41 348.06 ilosc_recenzji\n",
      "  0.51   0.46 accessibility\n",
      "  0.36   0.14 czy_sieciowka\n",
      "  0.15   0.37 facebook\n",
      "  9.26   9.23 Working_hour_monay\n",
      "  9.66  10.11 Working_hour_tue\n",
      "  9.76  10.11 Working_hour_wed\n",
      "  9.78  10.23 Working_hour_thu\n",
      "  9.89  10.74 Working_hour_fri\n",
      "  8.94  10.49 Working_hour_sat\n",
      "  7.92   9.77 Working_hour_sun\n",
      "  0.04   0.00 salad\n",
      "  0.13   0.23 kids' menu\n",
      "  0.01   0.00 eko\n",
      "  0.03   0.09 vegan\n",
      "  0.01   0.00 salad bar\n",
      "  0.14   0.40 wine\n",
      "  0.20   0.49 beer\n",
      "  0.01   0.06 halal food\n",
      "  0.10   0.26 vegetarian options\n",
      "  0.02   0.03 organic dishes\n",
      "  0.16   0.17 late-night food\n",
      "  0.02   0.00 all you can eat\n",
      "  0.01   0.03 happy hour food\n",
      "  0.03   0.06 live music\n",
      "  0.01   0.06 bar games\n",
      "  0.02   0.06 fireplace\n",
      "  0.01   0.00 women-led\n",
      "  0.00   0.03 sport\n",
      "  0.01   0.00 karaoke\n",
      "  0.05   0.11 outdoor seating\n",
      "  0.06   0.29 great cocktails\n",
      "  0.03   0.00 garden\n",
      "  0.06   0.03  supper\n",
      "  0.06   0.03 supper\n",
      "  0.05   0.20 seating\n",
      "  0.34   0.29 delivery\n",
      "  0.16   0.29 toilet\n",
      "  0.05   0.11 catering\n",
      "  0.07   0.03 breakfast\n",
      "  0.37   0.57 good for kids\n",
      "  0.14   0.20 dinner\n",
      "  0.08   0.17 lunch\n",
      "  0.12   0.09 dessert\n",
      "  0.12   0.29 bar onsite\n",
      "  0.02   0.06 wi-fi\n",
      "  0.05   0.09 high chairs\n",
      "  0.05   0.00 do_karmienia\n",
      "  0.79   0.94 casual\n",
      "  0.45   0.91 cosy\n",
      "  0.01   0.06 trending\n",
      "  0.51   0.71 groups\n",
      "  0.10   0.23 family friendly\n",
      "  0.03   0.00 cash\n",
      "  0.02   0.00 credit cards\n",
      "  0.03   0.00 nfc\n",
      "  0.01   0.00 reservations required\n",
      "  0.15   0.20 debit card\n",
      " 22.88  24.97 blisko\n",
      "164.98 176.40 daleko\n",
      " 86.53 105.20 srednio\n",
      "  0.17   0.86 dobry_lokal2\n"
     ]
    }
   ],
   "source": [
    "a = df.groupby('dobry_lokal').mean()\n",
    "\n",
    "for col in a.columns:\n",
    "    print('{:6.2f} {:6.2f} {}'.format(a[col][0], a[col][1], col))"
   ]
  },
  {
   "cell_type": "code",
   "execution_count": 18,
   "metadata": {},
   "outputs": [
    {
     "name": "stdout",
     "output_type": "stream",
     "text": [
      " 51.11  51.11 lat\n",
      " 17.03  17.04 long\n",
      "  3.83   4.47 ocena\n",
      " 78.32 331.46 ilosc_recenzji\n",
      "  0.46   0.61 accessibility\n",
      "  0.35   0.25 czy_sieciowka\n",
      "  0.14   0.30 facebook\n",
      "  9.29   9.16 Working_hour_monay\n",
      "  9.64   9.98 Working_hour_tue\n",
      "  9.70  10.13 Working_hour_wed\n",
      "  9.72  10.20 Working_hour_thu\n",
      "  9.84  10.49 Working_hour_fri\n",
      "  8.95   9.80 Working_hour_sat\n",
      "  7.94   8.93 Working_hour_sun\n",
      "  0.04   0.02 salad\n",
      "  0.11   0.23 kids' menu\n",
      "  0.01   0.00 eko\n",
      "  0.02   0.08 vegan\n",
      "  0.01   0.02 salad bar\n",
      "  0.15   0.28 wine\n",
      "  0.19   0.39 beer\n",
      "  0.01   0.05 halal food\n",
      "  0.09   0.20 vegetarian options\n",
      "  0.02   0.03 organic dishes\n",
      "  0.14   0.21 late-night food\n",
      "  0.02   0.00 all you can eat\n",
      "  0.01   0.02 happy hour food\n",
      "  0.02   0.07 live music\n",
      "  0.01   0.03 bar games\n",
      "  0.02   0.05 fireplace\n",
      "  0.01   0.00 women-led\n",
      "  0.00   0.02 sport\n",
      "  0.01   0.00 karaoke\n",
      "  0.04   0.11 outdoor seating\n",
      "  0.04   0.23 great cocktails\n",
      "  0.02   0.03 garden\n",
      "  0.05   0.07  supper\n",
      "  0.05   0.07 supper\n",
      "  0.05   0.15 seating\n",
      "  0.35   0.28 delivery\n",
      "  0.12   0.33 toilet\n",
      "  0.04   0.10 catering\n",
      "  0.04   0.11 breakfast\n",
      "  0.31   0.66 good for kids\n",
      "  0.12   0.23 dinner\n",
      "  0.07   0.16 lunch\n",
      "  0.09   0.18 dessert\n",
      "  0.13   0.20 bar onsite\n",
      "  0.02   0.05 wi-fi\n",
      "  0.04   0.11 high chairs\n",
      "  0.04   0.03 do_karmienia\n",
      "  0.77   0.93 casual\n",
      "  0.42   0.80 cosy\n",
      "  0.01   0.05 trending\n",
      "  0.47   0.74 groups\n",
      "  0.11   0.16 family friendly\n",
      "  0.02   0.03 cash\n",
      "  0.01   0.02 credit cards\n",
      "  0.02   0.02 nfc\n",
      "  0.01   0.00 reservations required\n",
      "  0.13   0.23 debit card\n",
      " 23.25  23.10 blisko\n",
      "163.42 175.67 daleko\n",
      " 85.53  99.89 srednio\n",
      "  0.03   0.49 dobry_lokal\n"
     ]
    }
   ],
   "source": [
    "a = df.groupby('dobry_lokal2').mean()\n",
    "\n",
    "for col in a.columns:\n",
    "    print('{:6.2f} {:6.2f} {}'.format(a[col][0], a[col][1], col))"
   ]
  },
  {
   "cell_type": "code",
   "execution_count": 19,
   "metadata": {},
   "outputs": [
    {
     "data": {
      "image/png": "[encoded data removed]",
      "text/plain": [
       "<matplotlib.figure.Figure at 0xce4a940>"
      ]
     },
     "metadata": {},
     "output_type": "display_data"
    }
   ],
   "source": [
    "df.daleko.plot(kind = 'hist')\n",
    "plt.show()"
   ]
  },
  {
   "cell_type": "markdown",
   "metadata": {},
   "source": [
    "# Models"
   ]
  },
  {
   "cell_type": "markdown",
   "metadata": {
    "collapsed": true
   },
   "source": [
    "### Klasyfikacja"
   ]
  },
  {
   "cell_type": "code",
   "execution_count": 20,
   "metadata": {},
   "outputs": [
    {
     "name": "stderr",
     "output_type": "stream",
     "text": [
      "D:\\Games\\Anaconda\\lib\\site-packages\\sklearn\\cross_validation.py:41: DeprecationWarning: This module was deprecated in version 0.18 in favor of the model_selection module into which all the refactored classes and functions are moved. Also note that the interface of the new CV iterators are different from that of this module. This module will be removed in 0.20.\n",
      "  \"This module will be removed in 0.20.\", DeprecationWarning)\n"
     ]
    }
   ],
   "source": [
    "from sklearn.cross_validation import train_test_split\n",
    "from sklearn.metrics import mean_squared_error"
   ]
  },
  {
   "cell_type": "code",
   "execution_count": 21,
   "metadata": {
    "collapsed": true
   },
   "outputs": [],
   "source": [
    "df3 = df.fillna(0)"
   ]
  },
  {
   "cell_type": "code",
   "execution_count": 22,
   "metadata": {
    "collapsed": true
   },
   "outputs": [],
   "source": [
    "Y = df3.dobry_lokal2\n",
    "X = df3.drop(['ocena', 'nazwa', 'adres', 'strona_internetowa', \n",
    "             'lat', 'long', 'ilosc_recenzji', 'dobry_lokal','dobry_lokal2'], axis = 1)\n",
    "X_train, X_test, y_train, y_test = train_test_split(X,Y, test_size = 0.2)"
   ]
  },
  {
   "cell_type": "code",
   "execution_count": 23,
   "metadata": {
    "collapsed": true
   },
   "outputs": [],
   "source": [
    "from sklearn.tree import DecisionTreeClassifier\n",
    "from sklearn.ensemble import RandomForestClassifier, GradientBoostingClassifier\n",
    "from sklearn.metrics import accuracy_score, roc_auc_score, confusion_matrix\n",
    "from sklearn.model_selection import cross_val_score"
   ]
  },
  {
   "cell_type": "code",
   "execution_count": 24,
   "metadata": {
    "collapsed": true
   },
   "outputs": [],
   "source": [
    "modele = [DecisionTreeClassifier(), RandomForestClassifier(n_estimators = 100), GradientBoostingClassifier()]"
   ]
  },
  {
   "cell_type": "code",
   "execution_count": 25,
   "metadata": {},
   "outputs": [
    {
     "name": "stdout",
     "output_type": "stream",
     "text": [
      "DecisionTreeClassifier\n",
      "Accuracy =  0.577777777778\n",
      "ROC AUC =  0.516666666667\n",
      "Cross Validation =  0.333333333333\n",
      "               cechy  wazne\n",
      "58            daleko  0.169\n",
      "48              cosy  0.123\n",
      "57            blisko  0.088\n",
      "6   Working_hour_thu  0.063\n",
      "9   Working_hour_sun  0.061\n",
      "------------------------------\n"
     ]
    },
    {
     "name": "stderr",
     "output_type": "stream",
     "text": [
      "D:\\Games\\Anaconda\\lib\\site-packages\\sklearn\\metrics\\classification.py:1135: UndefinedMetricWarning: Precision is ill-defined and being set to 0.0 due to no predicted samples.\n",
      "  'precision', 'predicted', average, warn_for)\n"
     ]
    },
    {
     "name": "stdout",
     "output_type": "stream",
     "text": [
      "RandomForestClassifier\n",
      "Accuracy =  0.755555555556\n",
      "ROC AUC =  0.666666666667\n",
      "Cross Validation =  0.483333333333\n",
      "               cechy  wazne\n",
      "58            daleko  0.105\n",
      "59           srednio  0.090\n",
      "57            blisko  0.083\n",
      "39     good for kids  0.048\n",
      "9   Working_hour_sun  0.046\n",
      "------------------------------\n",
      "GradientBoostingClassifier\n",
      "Accuracy =  0.755555555556\n",
      "ROC AUC =  0.683333333333\n",
      "Cross Validation =  0.485\n",
      "              cechy  wazne\n",
      "59          srednio  0.201\n",
      "58           daleko  0.146\n",
      "57           blisko  0.113\n",
      "48             cosy  0.042\n",
      "30  great cocktails  0.035\n",
      "------------------------------\n"
     ]
    }
   ],
   "source": [
    "wybraneCechy = []\n",
    "\n",
    "for model in modele:\n",
    "    model.fit(X_train, y_train)\n",
    "    y_pred = model.predict(X_test)\n",
    "    accuracy = accuracy_score(y_test, y_pred)\n",
    "    roc = roc_auc_score(y_test, y_pred)\n",
    "    res_cv = cross_val_score(model, X_train, y_train, cv = 10, scoring = 'precision')\n",
    "    \n",
    "    print(model.__class__.__name__)\n",
    "    #print(model)\n",
    "    print('Accuracy = ', accuracy)\n",
    "    print('ROC AUC = ', roc)\n",
    "    print('Cross Validation = ', np.mean(res_cv))\n",
    "    wazneCechy = pd.DataFrame({'cechy':X.columns, 'wazne':np.round(model.feature_importances_, 3)})\n",
    "    wazneCechy = wazneCechy.sort_values('wazne', ascending = False)\n",
    "    wazneCechy = wazneCechy.head(5)\n",
    "    wybraneCechy.extend(wazneCechy.cechy.values.tolist())\n",
    "    print(wazneCechy)\n",
    "    print('-'*30)"
   ]
  },
  {
   "cell_type": "code",
   "execution_count": 26,
   "metadata": {},
   "outputs": [
    {
     "data": {
      "text/plain": [
       "['srednio',\n",
       " 'Working_hour_sun',\n",
       " 'great cocktails',\n",
       " 'Working_hour_thu',\n",
       " 'cosy',\n",
       " 'daleko',\n",
       " 'good for kids',\n",
       " 'blisko']"
      ]
     },
     "execution_count": 26,
     "metadata": {},
     "output_type": "execute_result"
    }
   ],
   "source": [
    "list(set(wybraneCechy))"
   ]
  },
  {
   "cell_type": "markdown",
   "metadata": {},
   "source": [
    "Wizualizacja dobrych lokali na mapie Wrocławia"
   ]
  },
  {
   "cell_type": "code",
   "execution_count": 27,
   "metadata": {},
   "outputs": [
    {
     "data": {
      "text/plain": [
       "'file://D:\\\\Projekty\\\\Gravity Final Version\\\\gravity\\\\Multiple Mapbox.html'"
      ]
     },
     "execution_count": 27,
     "metadata": {},
     "output_type": "execute_result"
    }
   ],
   "source": [
    "import plotly as py\n",
    "import plotly.graph_objs as go\n",
    "\n",
    "mapbox_access_token = 'pk.eyJ1Ijoic2F2aW45IiwiYSI6ImNqaWV6aTZhZTA1b2Yzd3BhaDNzMGU1NGcifQ.8GRZAoIigmU-6gUGr_Y6cA'\n",
    "\n",
    "data = [\n",
    "    go.Scattermapbox(\n",
    "        lat=df.lat.tolist(),\n",
    "        lon=df.long.tolist(),\n",
    "        mode='markers',\n",
    "        marker=dict(\n",
    "            size=12,\n",
    "            color = df.dobry_lokal2.tolist(),\n",
    "            colorscale = [[0, 'rgb(165,0,38)'], [1, 'rgb(34,139,34)']]\n",
    "        ),\n",
    "        text=df.nazwa.tolist(),\n",
    "        hovertext = df.nazwa\n",
    "    )\n",
    "]\n",
    "\n",
    "layout = go.Layout(\n",
    "    autosize=True,\n",
    "    hovermode='closest',\n",
    "    mapbox=dict(\n",
    "        accesstoken=mapbox_access_token,\n",
    "        bearing=0,\n",
    "        center=dict(\n",
    "            lat=51.10,\n",
    "            lon=17.025\n",
    "        ),\n",
    "        pitch=0,\n",
    "        zoom=12\n",
    "    ),\n",
    ")\n",
    "\n",
    "fig = dict(data=data, layout=layout)\n",
    "py.offline.plot(fig, filename='Multiple Mapbox.html')"
   ]
  },
  {
   "cell_type": "code",
   "execution_count": null,
   "metadata": {
    "collapsed": true
   },
   "outputs": [],
   "source": []
  }
 ],
 "metadata": {
  "kernelspec": {
   "display_name": "Python 3",
   "language": "python",
   "name": "python3"
  },
  "language_info": {
   "codemirror_mode": {
    "name": "ipython",
    "version": 3
   },
   "file_extension": ".py",
   "mimetype": "text/x-python",
   "name": "python",
   "nbconvert_exporter": "python",
   "pygments_lexer": "ipython3",
   "version": "3.6.3"
  }
 },
 "nbformat": 4,
 "nbformat_minor": 2
}
